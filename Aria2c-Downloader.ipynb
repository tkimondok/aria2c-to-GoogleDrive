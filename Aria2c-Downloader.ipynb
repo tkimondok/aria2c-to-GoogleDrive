{
  "nbformat": 4,
  "nbformat_minor": 0,
  "metadata": {
    "colab": {
      "name": "Aria2c Downloader",
      "provenance": [],
      "mount_file_id": "1Yy_qhWPe3O4_hyPjNmNWn3Ln08eD5aRF",
      "authorship_tag": "ABX9TyO3CUZbEmQPl255cjj0fN/U",
      "include_colab_link": true
    },
    "kernelspec": {
      "name": "python3",
      "display_name": "Python 3"
    },
    "language_info": {
      "name": "python"
    }
  },
  "cells": [
    {
      "cell_type": "markdown",
      "metadata": {
        "id": "view-in-github",
        "colab_type": "text"
      },
      "source": [
        "<a href=\"https://colab.research.google.com/github/tkimondok/aria2c-to-GoogleDrive/blob/main/Aria2c-Downloader.ipynb\" target=\"_parent\"><img src=\"https://colab.research.google.com/assets/colab-badge.svg\" alt=\"Open In Colab\"/></a>"
      ]
    },
    {
      "cell_type": "code",
      "execution_count": null,
      "metadata": {
        "cellView": "form",
        "id": "r99dSte7AX-b"
      },
      "outputs": [],
      "source": [
        "#@title Mount dan install aria2c\n",
        "from IPython.display import clear_output\n",
        "from google.colab import drive\n",
        "drive.mount('/content/drive')\n",
        "!sudo apt update\n",
        "!sudo apt install aria2\n",
        "clear_output()\n",
        "print(\"Success!\")"
      ]
    },
    {
      "cell_type": "code",
      "source": [
        "#@title Download\n",
        "LINK_FILE = \"http://139.59.255.159/7.Hari.Mencintaiku.S03E12.1080p.IQ.WEB-DL.AAC.H.264-NOGRP.mp4\" #@param {type:\"string\"}\n",
        "#@markdown Path support Google Drive dan SharedDrive @ Team Drive (/content/drive/Shareddrives/OUTPUT)\n",
        "PATH = \"/content/drive/MyDrive/Index/root\" #@param {type:\"string\"}\n",
        "print(\"Downloading.....\")\n",
        "!aria2c --file-allocation=none -x16 \"{LINK_FILE}\" --dir=\"{PATH}\"\n",
        "print(\"Done!\")"
      ],
      "metadata": {
        "cellView": "form",
        "id": "04-Or7KnAs6U"
      },
      "execution_count": null,
      "outputs": []
    },
    {
      "cell_type": "markdown",
      "source": [
        "# 📚 Follow me on Facebook for more: [_@pijanify_](https://fb.me/pijanify)\n",
        "# 📦 Repo: [Github](https://github.com/pijanify/)\n",
        "\n",
        "Notes: Semua ini adalah tujuan pembelajaran sahaja. Pijan tidak akan bertanggungjawab atas sebarang risiko yang dihadapi."
      ],
      "metadata": {
        "id": "VG9sEZeCH-1s"
      }
    }
  ]
}
